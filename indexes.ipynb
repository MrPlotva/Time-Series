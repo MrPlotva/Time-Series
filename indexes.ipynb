{
 "cells": [
  {
   "cell_type": "code",
   "execution_count": 2,
   "metadata": {
    "collapsed": true
   },
   "outputs": [],
   "source": [
    "import math\n",
    "from itertools import product\n",
    "import numpy as np"
   ]
  },
  {
   "cell_type": "code",
   "execution_count": 3,
   "outputs": [
    {
     "name": "stdout",
     "output_type": "stream",
     "text": [
      "[2. 2. 2.]\n",
      "1.4142135623730951\n",
      "3.0\n",
      "1 0\n",
      "1 1\n",
      "1 2\n",
      "3 0\n",
      "3 1\n",
      "3 2\n"
     ]
    }
   ],
   "source": [
    "def center(data):\n",
    "    n = data.shape[0]\n",
    "    m = data.shape[1]\n",
    "    summ = np.zeros(m)\n",
    "    for i in range(n):\n",
    "        summ += data[i]\n",
    "    summ /= np.array([n for i in range(m)])\n",
    "    return summ\n",
    "\n",
    "def dist(x, y):\n",
    "    diff = x - y\n",
    "    return np.sqrt(sum(diff ** 2))\n",
    "\n",
    "def math_norm(x):\n",
    "    x = np.array([x])\n",
    "    return np.sqrt((x @ x.T)[0, 0])\n",
    "\n",
    "\n",
    "test = np.array([[1, 2, 3], [3, 2, 1], [2, 2, 2]])\n",
    "print(center(test))\n",
    "\n",
    "test1 = np.array([1, 1, 1])\n",
    "test2 = np.array([1, 2, 2])\n",
    "print(dist(test1, test2))\n",
    "\n",
    "test3 = np.array([1, 2, 2])\n",
    "print(math_norm(test3))\n",
    "\n",
    "for x, y in product([1, 3],range(3)):\n",
    "    print(x, y)"
   ],
   "metadata": {
    "collapsed": false
   }
  },
  {
   "cell_type": "code",
   "execution_count": 4,
   "outputs": [],
   "source": [
    "class MeasureIndexes:\n",
    "    def __init__(self, data, cluster):\n",
    "        # data = data set, cluster[i] = cluster of i-th point\n",
    "        self.data = data              # data set\n",
    "        self.N = data.shape[0]     # number of object in data set\n",
    "        self.center = center(data) # center of data set\n",
    "        self.cluster = cluster     # cluster[i] = cluster of i-th point\n",
    "        self.P = 0                 # ???\n",
    "        self.NC = max(cluster) + 1 # cnt clusters\n",
    "\n",
    "        self.C = []                # C[i] - i-th cluster\n",
    "        for i in range(self.NC):\n",
    "            self.C.append([])\n",
    "        for i in range(self.N):\n",
    "            self.C[cluster[i]].append(data[i])\n",
    "        for i in range(self.NC):\n",
    "            self.C[i] = np.array(self.C[i])\n",
    "\n",
    "        self.n = [0] * self.NC     # n[i] - len of i-th cluster\n",
    "        for i in range(self.NC):\n",
    "            self.n[i] = len(self.C[i])\n",
    "\n",
    "        self.c = [0] * self.NC     # c[i] - center of i-th cluster\n",
    "        for i in range(self.NC):\n",
    "            self.c[i] = center(self.C[i])\n",
    "\n",
    "\n",
    "    def RS(self):\n",
    "        s1 = 0\n",
    "        s2 = 0\n",
    "        for x in self.data:\n",
    "            s1 += math_norm(x - self.center) ** 2\n",
    "\n",
    "        for i in range(self.NC):\n",
    "            for x in self.C[i]:\n",
    "                s2 += math_norm(x - self.c[i]) ** 2\n",
    "\n",
    "        return (s1 - s2) / s1\n",
    "\n",
    "    def G(self):\n",
    "        s = 0\n",
    "        for i in range(self.N):\n",
    "            for j in range(self.N):\n",
    "                x = self.data[i]\n",
    "                y = self.data[j]\n",
    "                ci = self.cluster[i]\n",
    "                cj = self.cluster[j]\n",
    "                s += dist(x, y) * dist(self.c[ci], self.c[cj])\n",
    "\n",
    "        return (2 * s) / (self.N * (self.N - 1))\n",
    "\n",
    "    def CH(self):\n",
    "        s1 = 0\n",
    "        for i in range(self.NC):\n",
    "            s1 += self.n[i] * (dist(self.c[i], self.center) ** 2)\n",
    "        s1 /= self.NC - 1\n",
    "\n",
    "        s2 = 0\n",
    "        for i in range(self.NC):\n",
    "            for x in self.C[i]:\n",
    "                s2 += dist(x, self.c[i]) ** 2\n",
    "        s2 /= self.N - self.NC\n",
    "\n",
    "        return s1 / s2\n",
    "\n",
    "    def D(self):\n",
    "        max_d = 0\n",
    "        for k in range(self.NC):\n",
    "            for x, y in product(self.C[k], self.C[k]):\n",
    "                max_d = max(max_d, dist(x, y))\n",
    "\n",
    "        min_d = 10 ** 10\n",
    "        for i in range(self.NC):\n",
    "            for j in range(self.NC):\n",
    "                if i == j:\n",
    "                    continue\n",
    "                for x, y in product(self.C[i], self.C[j]):\n",
    "                    min_d = min(min_d, dist(x, y))\n",
    "\n",
    "        return min_d / max_d\n",
    "\n",
    "    def S(self):\n",
    "        s = 0\n",
    "        for i in range(self.NC):\n",
    "            cur = 0\n",
    "            for x in self.C[i]:\n",
    "                ax = 0\n",
    "                for y in self.C[i]:\n",
    "                    ax += dist(x, y)\n",
    "                ax /= self.n[i] - 1\n",
    "\n",
    "                bx = 10 ** 20\n",
    "                for j in range(self.NC):\n",
    "                    if i == j:\n",
    "                        continue\n",
    "                    res = 0\n",
    "                    for y in self.C[j]:\n",
    "                        res += dist(x, y)\n",
    "                    res /= self.n[j]\n",
    "                    bx = min(bx, res)\n",
    "                cur += (bx - ax) / max(bx, ax)\n",
    "            s += cur / self.n[i]\n",
    "\n",
    "        return s / self.NC\n",
    "\n",
    "    def DB(self):\n",
    "        res = 0\n",
    "        for i in range(self.NC):\n",
    "            mx = 0\n",
    "            for j in range(self.NC):\n",
    "                if j == i:\n",
    "                    continue\n",
    "                s1 = 0\n",
    "                for x in self.C[i]:\n",
    "                    s1 += dist(x, self.c[i])\n",
    "                s1 /= self.n[i]\n",
    "\n",
    "                s2 = 0\n",
    "                for x in self.C[j]:\n",
    "                    s2 += dist(x, self.c[j])\n",
    "                s2 /= self.n[j]\n",
    "\n",
    "                s = (s1 + s2) / dist(self.c[i], self.c[j])\n",
    "                mx = max(mx, s)\n",
    "            res += mx\n",
    "        return res / self.NC\n",
    "\n",
    "    def XB(self):\n",
    "        s1 = 0\n",
    "        for i in range(self.NC):\n",
    "            for x in self.C[i]:\n",
    "                s1 += dist(x, self.c[i]) ** 2\n",
    "        s2 = 10 ** 20\n",
    "        for i in range(self.NC):\n",
    "            for j in range(self.NC):\n",
    "                if i == j:\n",
    "                    continue\n",
    "                s2 = min(s2, dist(self.c[i], self.c[j]) ** 2)\n",
    "\n",
    "        s2 *= self.N\n",
    "\n",
    "        return s1 / s2\n",
    "\n",
    "    def Calculate(self):\n",
    "        res = dict()\n",
    "        res[\"RS\"] = self.RS()\n",
    "        res[\"G\"] = self.G()\n",
    "        res[\"CH\"] = self.CH()\n",
    "        res[\"D\"] = self.D()\n",
    "        res[\"S\"] = self.S()\n",
    "        res[\"DB\"] = self.DB()\n",
    "        res[\"XB\"] = self.XB()\n",
    "\n",
    "        return res\n"
   ],
   "metadata": {
    "collapsed": false
   }
  },
  {
   "cell_type": "code",
   "execution_count": 5,
   "outputs": [
    {
     "name": "stdout",
     "output_type": "stream",
     "text": [
      "RS 0.9115323854660348\n",
      "G 37.17556877593904\n",
      "CH 51.51785714285713\n",
      "D 1.8973665961010273\n",
      "S 0.7488352839464326\n",
      "DB 0.30519670878508837\n",
      "XB 0.023768259470165882\n"
     ]
    }
   ],
   "source": [
    "data = np.array([[1, 2], [2, 1], [1, 1], [2, 2], [5, 5], [5, 6], [7, 5]])\n",
    "cluster = np.array([0, 0, 0, 0, 1, 1, 1])\n",
    "\n",
    "calculator = MeasureIndexes(data, cluster)\n",
    "\n",
    "res = calculator.Calculate()\n",
    "for key in res:\n",
    "    print(key, res[key])\n"
   ],
   "metadata": {
    "collapsed": false
   }
  },
  {
   "cell_type": "code",
   "execution_count": 6,
   "outputs": [
    {
     "data": {
      "text/plain": "<Figure size 640x480 with 1 Axes>",
      "image/png": "[encoded data removed]"
     },
     "metadata": {},
     "output_type": "display_data"
    }
   ],
   "source": [
    "import wishart_lib\n",
    "from random import randint\n",
    "from matplotlib import pyplot as plt\n",
    "\n",
    "def gen_rectangle(lx, rx, ly, ry):\n",
    "    iters = randint(70, 100)\n",
    "\n",
    "    res = []\n",
    "    for i in range(iters):\n",
    "        res.append([randint(lx, rx), randint(ly, ry)])\n",
    "\n",
    "    return res\n",
    "\n",
    "r1 = gen_rectangle(0, 10, 0, 10)\n",
    "r2 = gen_rectangle(13, 20, 10, 15)\n",
    "r3 = gen_rectangle(15, 22, -5, 5)\n",
    "\n",
    "data_set = np.array(r1 + r2 + r3)\n",
    "xs = data_set[:,0]\n",
    "ys = data_set[:,1]\n",
    "\n",
    "plt.scatter(xs, ys)\n",
    "plt.show()"
   ],
   "metadata": {
    "collapsed": false
   }
  },
  {
   "cell_type": "code",
   "execution_count": 7,
   "outputs": [
    {
     "data": {
      "text/plain": "<Figure size 640x480 with 1 Axes>",
      "image/png": "[encoded data removed]"
     },
     "metadata": {},
     "output_type": "display_data"
    }
   ],
   "source": [
    "wishart = wishart_lib.Wishart(7, 1)\n",
    "w = wishart.fit(data_set)\n",
    "\n",
    "def compress(arr):\n",
    "    was = dict()\n",
    "    for i in range(len(arr)):\n",
    "        if arr[i] not in was:\n",
    "            was[arr[i]] = len(was)\n",
    "        arr[i] = was[arr[i]]\n",
    "    return arr\n",
    "\n",
    "colour_pool = ['red', 'blue', 'green', 'yellow', 'brown', 'purple', 'orange']\n",
    "\n",
    "w = compress(w)\n",
    "colours = [colour_pool[i] for i in w]\n",
    "plt.scatter(xs, ys, c=colours)\n",
    "plt.show()\n",
    "\n"
   ],
   "metadata": {
    "collapsed": false
   }
  },
  {
   "cell_type": "code",
   "execution_count": 8,
   "outputs": [
    {
     "name": "stdout",
     "output_type": "stream",
     "text": [
      "RS 0.7728098730058468\n",
      "G 246.5676247415367\n",
      "CH 414.9951661814064\n",
      "D 0.05716619504750295\n",
      "S 0.5809925498308236\n",
      "DB 0.5489143661888837\n",
      "XB 0.11115190496612468\n"
     ]
    }
   ],
   "source": [
    "wishart = wishart_lib.Wishart(11, 10)\n",
    "w = wishart.fit(data_set)\n",
    "w = compress(w)\n",
    "calculator = MeasureIndexes(data_set, w)\n",
    "\n",
    "full_res = []\n",
    "res = calculator.Calculate()\n",
    "full_res.append(res)\n",
    "for key in res:\n",
    "    print(key, res[key])"
   ],
   "metadata": {
    "collapsed": false
   }
  },
  {
   "cell_type": "code",
   "execution_count": 9,
   "outputs": [
    {
     "name": "stdout",
     "output_type": "stream",
     "text": [
      "RS 0.8219332394094254\n",
      "G 258.85860578178244\n",
      "CH 563.1362915536617\n",
      "D 0.23505024736113425\n",
      "S 0.6241175917869425\n",
      "DB 0.5094077041957689\n",
      "XB 0.0811614924692854\n"
     ]
    }
   ],
   "source": [
    "wishart = wishart_lib.Wishart(7, 10)\n",
    "w = wishart.fit(data_set)\n",
    "w = compress(w)\n",
    "calculator = MeasureIndexes(data_set, w)\n",
    "\n",
    "res = calculator.Calculate()\n",
    "full_res.append(res)\n",
    "\n",
    "for key in res:\n",
    "    print(key, res[key])"
   ],
   "metadata": {
    "collapsed": false
   }
  },
  {
   "cell_type": "code",
   "execution_count": 12,
   "outputs": [
    {
     "name": "stdout",
     "output_type": "stream",
     "text": [
      "  test id     RS        G       CH      D      S     DB     XB\n",
      "---------  -----  -------  -------  -----  -----  -----  -----\n",
      "        1  0.822  258.859  563.136  0.235  0.624  0.509  0.081\n",
      "        2  0.773  246.568  414.995  0.057  0.581  0.549  0.111\n",
      "        3  0.466  166.029  106.628  0.041  0.459  1.157  1.075\n"
     ]
    }
   ],
   "source": [
    "from indexes_lib import Tester\n",
    "\n",
    "tester = Tester()\n",
    "\n",
    "# test 1\n",
    "wishart = wishart_lib.Wishart(7, 10)\n",
    "w = wishart.fit(data_set)\n",
    "w = compress(w)\n",
    "tester.add_test(data_set, w)\n",
    "\n",
    "\n",
    "# test 2\n",
    "wishart = wishart_lib.Wishart(11, 5)\n",
    "w = wishart.fit(data_set)\n",
    "w = compress(w)\n",
    "tester.add_test(data_set, w)\n",
    "\n",
    "\n",
    "# test 3\n",
    "wishart = wishart_lib.Wishart(15, 3)\n",
    "w = wishart.fit(data_set)\n",
    "w = compress(w)\n",
    "tester.add_test(data_set, w)\n",
    "\n",
    "tester.display()\n",
    "\n",
    "\n",
    "\n"
   ],
   "metadata": {
    "collapsed": false
   }
  },
  {
   "cell_type": "code",
   "execution_count": null,
   "outputs": [],
   "source": [],
   "metadata": {
    "collapsed": false
   }
  }
 ],
 "metadata": {
  "kernelspec": {
   "display_name": "Python 3",
   "language": "python",
   "name": "python3"
  },
  "language_info": {
   "codemirror_mode": {
    "name": "ipython",
    "version": 2
   },
   "file_extension": ".py",
   "mimetype": "text/x-python",
   "name": "python",
   "nbconvert_exporter": "python",
   "pygments_lexer": "ipython2",
   "version": "2.7.6"
  }
 },
 "nbformat": 4,
 "nbformat_minor": 0
}
